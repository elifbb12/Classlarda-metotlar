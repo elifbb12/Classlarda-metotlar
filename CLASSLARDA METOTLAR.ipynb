{
 "cells": [
  {
   "cell_type": "code",
   "execution_count": 43,
   "metadata": {},
   "outputs": [],
   "source": [
    "##DUNDER METOTLAR###\n",
    "class Ucus():\n",
    "    havayolu=\"THY\"\n",
    "    def __init__(self,kod,kalkis,varis,sure,kapasite,yolcu):\n",
    "        self.kod = kod\n",
    "        self.kalkis=kalkis\n",
    "        self.varis = varis\n",
    "        self.sure=sure\n",
    "        self.kapasite=kapasite\n",
    "        self.yolcu=yolcu\n",
    "    def anons_yap(self):\n",
    "        return \"  {}  sefer sayili {}-{} ucusumuz {} dakika sürecektir\".format(self.kod,self.kalkis,self.varis,self.sure)\n",
    "    \n",
    "    def koltuk_sayisi_guncelle(self):\n",
    "        return self.kapasite-self.yolcu\n",
    "    \n",
    "    def bilet_satis(self, bilet_adedi=1):\n",
    "        if self.yolcu + bilet_adedi<=self.kapasite:\n",
    "                self.yolcu+= bilet_adedi\n",
    "                self.koltuk_sayisi_guncelle()\n",
    "                print(\"{} adet bilet satılmıştır,kalan koltuk sayısı {}\".format(bilet_adedi,self.koltuk_sayisi_guncelle()))\n",
    "        else:\n",
    "            print(\"işlem gerçekleştirilemedi/Yetersiz koltuk sayısı..\")\n",
    "            \n",
    "    def bilet_iptal(self,bilet_adedi=1):\n",
    "        if self.yolcu >=  bilet_adedi:\n",
    "            self.yolcu -= bilet_adedi\n",
    "            print(\"{} adet bilet iptal edilmiştir,güncel koltuk sayısı {}\".format(bilet_adedi,self.koltuk_sayisi_guncelle()))\n",
    "        else:\n",
    "            print(\"işlem gerçekleştirilemedi/İptal edilecek kadar yolcu yok..\")   \n"
   ]
  },
  {
   "cell_type": "code",
   "execution_count": 37,
   "metadata": {},
   "outputs": [],
   "source": [
    "ucus3 =Ucus(\"TK134\",\"BOD\", \"ANK\",60,250,234)"
   ]
  },
  {
   "cell_type": "code",
   "execution_count": 50,
   "metadata": {},
   "outputs": [
    {
     "data": {
      "text/plain": [
       "16"
      ]
     },
     "execution_count": 50,
     "metadata": {},
     "output_type": "execute_result"
    }
   ],
   "source": [
    "ucus3.koltuk_sayisi_guncelle()"
   ]
  },
  {
   "cell_type": "code",
   "execution_count": 51,
   "metadata": {},
   "outputs": [
    {
     "name": "stdout",
     "output_type": "stream",
     "text": [
      "işlem gerçekleştirilemedi\n"
     ]
    }
   ],
   "source": [
    "ucus3.bilet_satis(100)"
   ]
  },
  {
   "cell_type": "code",
   "execution_count": 52,
   "metadata": {},
   "outputs": [
    {
     "data": {
      "text/plain": [
       "16"
      ]
     },
     "execution_count": 52,
     "metadata": {},
     "output_type": "execute_result"
    }
   ],
   "source": [
    "ucus3.koltuk_sayisi_guncelle()"
   ]
  },
  {
   "cell_type": "code",
   "execution_count": 55,
   "metadata": {},
   "outputs": [],
   "source": [
    "ucus3 =Ucus(\"TK134\",\"BOD\", \"ANK\",60,250,234)"
   ]
  },
  {
   "cell_type": "code",
   "execution_count": 56,
   "metadata": {},
   "outputs": [
    {
     "data": {
      "text/plain": [
       "['kod',\n",
       " 'kalkis',\n",
       " 'varis',\n",
       " 'sure',\n",
       " 'kapasite',\n",
       " 'yolcu',\n",
       " '__module__',\n",
       " 'havayolu',\n",
       " '__init__',\n",
       " 'anons_yap',\n",
       " 'koltuk_sayisi_guncelle',\n",
       " 'bilet_satis',\n",
       " 'bilet_iptal',\n",
       " '__dict__',\n",
       " '__weakref__',\n",
       " '__doc__',\n",
       " '__repr__',\n",
       " '__hash__',\n",
       " '__str__',\n",
       " '__getattribute__',\n",
       " '__setattr__',\n",
       " '__delattr__',\n",
       " '__lt__',\n",
       " '__le__',\n",
       " '__eq__',\n",
       " '__ne__',\n",
       " '__gt__',\n",
       " '__ge__',\n",
       " '__new__',\n",
       " '__reduce_ex__',\n",
       " '__reduce__',\n",
       " '__subclasshook__',\n",
       " '__init_subclass__',\n",
       " '__format__',\n",
       " '__sizeof__',\n",
       " '__dir__',\n",
       " '__class__']"
      ]
     },
     "execution_count": 56,
     "metadata": {},
     "output_type": "execute_result"
    }
   ],
   "source": [
    "ucus3.__dir__()"
   ]
  },
  {
   "cell_type": "code",
   "execution_count": 57,
   "metadata": {},
   "outputs": [
    {
     "data": {
      "text/plain": [
       "<__main__.Ucus at 0x258e6fb5670>"
      ]
     },
     "execution_count": 57,
     "metadata": {},
     "output_type": "execute_result"
    }
   ],
   "source": [
    "ucus3"
   ]
  },
  {
   "cell_type": "code",
   "execution_count": 63,
   "metadata": {},
   "outputs": [],
   "source": [
    "class Ucus():\n",
    "    havayolu=\"THY\"\n",
    "    def __init__(self,kod,kalkis,varis,sure,kapasite,yolcu):\n",
    "        self.kod = kod\n",
    "        self.kalkis=kalkis\n",
    "        self.varis = varis\n",
    "        self.sure=sure\n",
    "        self.kapasite=kapasite\n",
    "        self.yolcu=yolcu\n",
    "    \n",
    "    def __repr__(self): ###ÖNEMLİ###\n",
    "        return  \"  {}  sefer sayili ucus sistemde oluşturulmuştur \".format(self.kod)\n",
    "    \n",
    "    def anons_yap(self):\n",
    "        return \"  {}  sefer sayili {}-{} ucusumuz {} dakika sürecektir\".format(self.kod,self.kalkis,self.varis,self.sure)\n",
    "    \n",
    "    def koltuk_sayisi_guncelle(self):\n",
    "        return self.kapasite-self.yolcu\n",
    "    \n",
    "    def bilet_satis(self, bilet_adedi=1):\n",
    "        if self.yolcu + bilet_adedi<=self.kapasite:\n",
    "                self.yolcu+= bilet_adedi\n",
    "                self.koltuk_sayisi_guncelle()\n",
    "                print(\"{} adet bilet satılmıştır,kalan koltuk sayısı {}\".format(bilet_adedi,self.koltuk_sayisi_guncelle()))\n",
    "        else:\n",
    "            print(\"işlem gerçekleştirilemedi/Yetersiz koltuk sayısı..\")\n",
    "            "
   ]
  },
  {
   "cell_type": "code",
   "execution_count": 64,
   "metadata": {},
   "outputs": [],
   "source": [
    "ucus3 =Ucus(\"TK134\",\"BOD\", \"ANK\",60,250,234)"
   ]
  },
  {
   "cell_type": "code",
   "execution_count": 65,
   "metadata": {},
   "outputs": [
    {
     "data": {
      "text/plain": [
       "  TK134  sefer sayili ucus sistemde oluşturulmuştur "
      ]
     },
     "execution_count": 65,
     "metadata": {},
     "output_type": "execute_result"
    }
   ],
   "source": [
    "ucus3"
   ]
  }
 ],
 "metadata": {
  "kernelspec": {
   "display_name": "Python 3",
   "language": "python",
   "name": "python3"
  },
  "language_info": {
   "codemirror_mode": {
    "name": "ipython",
    "version": 3
   },
   "file_extension": ".py",
   "mimetype": "text/x-python",
   "name": "python",
   "nbconvert_exporter": "python",
   "pygments_lexer": "ipython3",
   "version": "3.8.3"
  }
 },
 "nbformat": 4,
 "nbformat_minor": 4
}
